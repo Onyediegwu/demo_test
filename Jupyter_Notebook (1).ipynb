{
  "metadata": {
    "kernelspec": {
      "name": "python",
      "display_name": "Pyolite",
      "language": "python"
    },
    "language_info": {
      "codemirror_mode": {
        "name": "python",
        "version": 3
      },
      "file_extension": ".py",
      "mimetype": "text/x-python",
      "name": "python",
      "nbconvert_exporter": "python",
      "pygments_lexer": "ipython3",
      "version": "3.8"
    }
  },
  "nbformat_minor": 4,
  "nbformat": 4,
  "cells": [
    {
      "cell_type": "markdown",
      "source": "<center>\n    <img src=\"https://cf-courses-data.s3.us.cloud-object-storage.appdomain.cloud/IBMDeveloperSkillsNetwork-DS0105EN-SkillsNetwork/labs/Module2/images/SN_web_lightmode.png\" width=\"300\" alt=\"cognitiveclass.ai logo\">\n</center>\n",
      "metadata": {}
    },
    {
      "cell_type": "markdown",
      "source": "# My Jupyter Notebook on IBM Watson Studio",
      "metadata": {}
    },
    {
      "cell_type": "markdown",
      "source": "# Amadiegwu Sylvanus\n",
      "metadata": {}
    },
    {
      "cell_type": "markdown",
      "source": "Lecturer",
      "metadata": {}
    },
    {
      "cell_type": "markdown",
      "source": "*I am interested in data science because;*\n*1. I want switch career to data science.*\n*2. I do not want to be left behind as information and communication technology continues to advance.*",
      "metadata": {}
    },
    {
      "cell_type": "markdown",
      "source": "### My code is for adding two numbers",
      "metadata": {}
    },
    {
      "cell_type": "code",
      "source": "19+17",
      "metadata": {
        "trusted": true
      },
      "execution_count": 3,
      "outputs": [
        {
          "execution_count": 3,
          "output_type": "execute_result",
          "data": {
            "text/plain": "36"
          },
          "metadata": {}
        }
      ]
    },
    {
      "cell_type": "markdown",
      "source": "~~__scratch this__~~\n1. Begin here.\n2. Add this line to it.\n* Add this little ones too\n+ And these ones as well.\n\nCourse|Score |Grade\n-----|-------|-------\nData Science| 91 |A+\nData Analytics|97 |A+",
      "metadata": {}
    }
  ]
}